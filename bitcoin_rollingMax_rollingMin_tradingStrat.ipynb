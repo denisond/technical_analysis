{
 "cells": [
  {
   "cell_type": "markdown",
   "metadata": {},
   "source": [
    "\n",
    "# Jupyter Notebook Technical Analysis Demo\n",
    "Data-set URL: https://raw.githubusercontent.com/iamnewneo/ML_For_Trading/master/data/stocks/XOM.csv\n",
    "\n",
    "Let's import some packages that will be helpful for us:"
   ]
  },
  {
   "cell_type": "code",
<<<<<<< HEAD
   "execution_count": 2,
=======
   "execution_count": 4,
>>>>>>> 1d484e3b0b0546bf424ea5680ec5cb0f013ab619
   "metadata": {
    "collapsed": true
   },
   "outputs": [],
   "source": [
    "import numpy as np\n",
    "import pandas as pd\n",
    "import os\n",
    "%matplotlib inline\n",
    "import matplotlib\n",
    "import matplotlib.pyplot as plt\n",
    "import datetime\n"
   ]
  },
  {
   "cell_type": "code",
<<<<<<< HEAD
   "execution_count": 3,
   "metadata": {
    "collapsed": true
   },
=======
   "execution_count": 11,
   "metadata": {},
>>>>>>> 1d484e3b0b0546bf424ea5680ec5cb0f013ab619
   "outputs": [],
   "source": [
    "def get_data(symbol, dates):\n",
    "    \"\"\"Read stock data (adjusted close) for given symbols from CSV files.\"\"\"\n",
    "    df = pd.DataFrame(index=dates)\n",
    "     # TODO: Read and join data for each symbol\n",
    "\n",
    "    df_temp = pd.read_csv('data/{}.csv'.format(symbol), usecols=['Timestamp', 'Close'])\n",
    "    df_temp['datetime'] = pd.to_datetime(df_temp['Timestamp'], unit='s')\n",
    "    df_temp = df_temp.set_index('datetime')\n",
    "    df_temp.drop(['Timestamp'], inplace = True, axis = 1)\n",
    "    locs = df_temp.index.indexer_at_time('00:00:00')\n",
    "    df_temp = df_temp.iloc[locs]\n",
    "    df = df.join(df_temp, how='inner')\n",
    "    df['Close'].fillna(method='ffill', inplace=True)\n",
    "    return df"
   ]
  },
  {
   "cell_type": "code",
<<<<<<< HEAD
   "execution_count": 4,
   "metadata": {},
   "outputs": [
    {
     "ename": "FileNotFoundError",
     "evalue": "File b'data/bitstampfull2.csv' does not exist",
     "output_type": "error",
     "traceback": [
      "\u001b[1;31m---------------------------------------------------------------------------\u001b[0m",
      "\u001b[1;31mFileNotFoundError\u001b[0m                         Traceback (most recent call last)",
      "\u001b[1;32m<ipython-input-4-920269481551>\u001b[0m in \u001b[0;36m<module>\u001b[1;34m()\u001b[0m\n\u001b[0;32m     36\u001b[0m \u001b[1;33m\u001b[0m\u001b[0m\n\u001b[0;32m     37\u001b[0m \u001b[1;33m\u001b[0m\u001b[0m\n\u001b[1;32m---> 38\u001b[1;33m \u001b[0mtest_run\u001b[0m\u001b[1;33m(\u001b[0m\u001b[1;33m)\u001b[0m\u001b[1;33m\u001b[0m\u001b[0m\n\u001b[0m",
      "\u001b[1;32m<ipython-input-4-920269481551>\u001b[0m in \u001b[0;36mtest_run\u001b[1;34m()\u001b[0m\n\u001b[0;32m     11\u001b[0m     \u001b[0mend_date\u001b[0m\u001b[1;33m=\u001b[0m\u001b[1;34m'2017-10-20'\u001b[0m\u001b[1;33m\u001b[0m\u001b[0m\n\u001b[0;32m     12\u001b[0m     \u001b[0msymbol\u001b[0m \u001b[1;33m=\u001b[0m \u001b[1;34m'bitstampfull2'\u001b[0m\u001b[1;33m\u001b[0m\u001b[0m\n\u001b[1;32m---> 13\u001b[1;33m     \u001b[0mdata\u001b[0m \u001b[1;33m=\u001b[0m \u001b[0mget_data\u001b[0m\u001b[1;33m(\u001b[0m\u001b[0msymbol\u001b[0m\u001b[1;33m,\u001b[0m \u001b[0mdates\u001b[0m\u001b[1;33m)\u001b[0m\u001b[1;33m\u001b[0m\u001b[0m\n\u001b[0m\u001b[0;32m     14\u001b[0m \u001b[1;33m\u001b[0m\u001b[0m\n\u001b[0;32m     15\u001b[0m     \u001b[0mdata\u001b[0m\u001b[1;33m[\u001b[0m\u001b[1;34m'RollingMean'\u001b[0m\u001b[1;33m]\u001b[0m \u001b[1;33m=\u001b[0m \u001b[0mrolling_mean\u001b[0m\u001b[1;33m(\u001b[0m\u001b[0mdata\u001b[0m\u001b[1;33m[\u001b[0m\u001b[1;34m'Close'\u001b[0m\u001b[1;33m]\u001b[0m\u001b[1;33m,\u001b[0m \u001b[0mwindow\u001b[0m \u001b[1;33m=\u001b[0m \u001b[1;36m50\u001b[0m\u001b[1;33m)\u001b[0m\u001b[1;33m\u001b[0m\u001b[0m\n",
      "\u001b[1;32m<ipython-input-3-32d4a7fd4cd5>\u001b[0m in \u001b[0;36mget_data\u001b[1;34m(symbol, dates)\u001b[0m\n\u001b[0;32m      4\u001b[0m      \u001b[1;31m# TODO: Read and join data for each symbol\u001b[0m\u001b[1;33m\u001b[0m\u001b[1;33m\u001b[0m\u001b[0m\n\u001b[0;32m      5\u001b[0m \u001b[1;33m\u001b[0m\u001b[0m\n\u001b[1;32m----> 6\u001b[1;33m     \u001b[0mdf_temp\u001b[0m \u001b[1;33m=\u001b[0m \u001b[0mpd\u001b[0m\u001b[1;33m.\u001b[0m\u001b[0mread_csv\u001b[0m\u001b[1;33m(\u001b[0m\u001b[1;34m'data/{}.csv'\u001b[0m\u001b[1;33m.\u001b[0m\u001b[0mformat\u001b[0m\u001b[1;33m(\u001b[0m\u001b[0msymbol\u001b[0m\u001b[1;33m)\u001b[0m\u001b[1;33m,\u001b[0m \u001b[0musecols\u001b[0m\u001b[1;33m=\u001b[0m\u001b[1;33m[\u001b[0m\u001b[1;34m'Timestamp'\u001b[0m\u001b[1;33m,\u001b[0m \u001b[1;34m'Close'\u001b[0m\u001b[1;33m]\u001b[0m\u001b[1;33m)\u001b[0m\u001b[1;33m\u001b[0m\u001b[0m\n\u001b[0m\u001b[0;32m      7\u001b[0m     \u001b[0mdf_temp\u001b[0m\u001b[1;33m[\u001b[0m\u001b[1;34m'datetime'\u001b[0m\u001b[1;33m]\u001b[0m \u001b[1;33m=\u001b[0m \u001b[0mpd\u001b[0m\u001b[1;33m.\u001b[0m\u001b[0mto_datetime\u001b[0m\u001b[1;33m(\u001b[0m\u001b[0mdf_temp\u001b[0m\u001b[1;33m[\u001b[0m\u001b[1;34m'Timestamp'\u001b[0m\u001b[1;33m]\u001b[0m\u001b[1;33m,\u001b[0m \u001b[0munit\u001b[0m\u001b[1;33m=\u001b[0m\u001b[1;34m's'\u001b[0m\u001b[1;33m)\u001b[0m\u001b[1;33m\u001b[0m\u001b[0m\n\u001b[0;32m      8\u001b[0m     \u001b[0mdf_temp\u001b[0m \u001b[1;33m=\u001b[0m \u001b[0mdf_temp\u001b[0m\u001b[1;33m.\u001b[0m\u001b[0mset_index\u001b[0m\u001b[1;33m(\u001b[0m\u001b[1;34m'datetime'\u001b[0m\u001b[1;33m)\u001b[0m\u001b[1;33m\u001b[0m\u001b[0m\n",
      "\u001b[1;32m~\\Anaconda3\\lib\\site-packages\\pandas\\io\\parsers.py\u001b[0m in \u001b[0;36mparser_f\u001b[1;34m(filepath_or_buffer, sep, delimiter, header, names, index_col, usecols, squeeze, prefix, mangle_dupe_cols, dtype, engine, converters, true_values, false_values, skipinitialspace, skiprows, nrows, na_values, keep_default_na, na_filter, verbose, skip_blank_lines, parse_dates, infer_datetime_format, keep_date_col, date_parser, dayfirst, iterator, chunksize, compression, thousands, decimal, lineterminator, quotechar, quoting, escapechar, comment, encoding, dialect, tupleize_cols, error_bad_lines, warn_bad_lines, skipfooter, skip_footer, doublequote, delim_whitespace, as_recarray, compact_ints, use_unsigned, low_memory, buffer_lines, memory_map, float_precision)\u001b[0m\n\u001b[0;32m    703\u001b[0m                     skip_blank_lines=skip_blank_lines)\n\u001b[0;32m    704\u001b[0m \u001b[1;33m\u001b[0m\u001b[0m\n\u001b[1;32m--> 705\u001b[1;33m         \u001b[1;32mreturn\u001b[0m \u001b[0m_read\u001b[0m\u001b[1;33m(\u001b[0m\u001b[0mfilepath_or_buffer\u001b[0m\u001b[1;33m,\u001b[0m \u001b[0mkwds\u001b[0m\u001b[1;33m)\u001b[0m\u001b[1;33m\u001b[0m\u001b[0m\n\u001b[0m\u001b[0;32m    706\u001b[0m \u001b[1;33m\u001b[0m\u001b[0m\n\u001b[0;32m    707\u001b[0m     \u001b[0mparser_f\u001b[0m\u001b[1;33m.\u001b[0m\u001b[0m__name__\u001b[0m \u001b[1;33m=\u001b[0m \u001b[0mname\u001b[0m\u001b[1;33m\u001b[0m\u001b[0m\n",
      "\u001b[1;32m~\\Anaconda3\\lib\\site-packages\\pandas\\io\\parsers.py\u001b[0m in \u001b[0;36m_read\u001b[1;34m(filepath_or_buffer, kwds)\u001b[0m\n\u001b[0;32m    443\u001b[0m \u001b[1;33m\u001b[0m\u001b[0m\n\u001b[0;32m    444\u001b[0m     \u001b[1;31m# Create the parser.\u001b[0m\u001b[1;33m\u001b[0m\u001b[1;33m\u001b[0m\u001b[0m\n\u001b[1;32m--> 445\u001b[1;33m     \u001b[0mparser\u001b[0m \u001b[1;33m=\u001b[0m \u001b[0mTextFileReader\u001b[0m\u001b[1;33m(\u001b[0m\u001b[0mfilepath_or_buffer\u001b[0m\u001b[1;33m,\u001b[0m \u001b[1;33m**\u001b[0m\u001b[0mkwds\u001b[0m\u001b[1;33m)\u001b[0m\u001b[1;33m\u001b[0m\u001b[0m\n\u001b[0m\u001b[0;32m    446\u001b[0m \u001b[1;33m\u001b[0m\u001b[0m\n\u001b[0;32m    447\u001b[0m     \u001b[1;32mif\u001b[0m \u001b[0mchunksize\u001b[0m \u001b[1;32mor\u001b[0m \u001b[0miterator\u001b[0m\u001b[1;33m:\u001b[0m\u001b[1;33m\u001b[0m\u001b[0m\n",
      "\u001b[1;32m~\\Anaconda3\\lib\\site-packages\\pandas\\io\\parsers.py\u001b[0m in \u001b[0;36m__init__\u001b[1;34m(self, f, engine, **kwds)\u001b[0m\n\u001b[0;32m    812\u001b[0m             \u001b[0mself\u001b[0m\u001b[1;33m.\u001b[0m\u001b[0moptions\u001b[0m\u001b[1;33m[\u001b[0m\u001b[1;34m'has_index_names'\u001b[0m\u001b[1;33m]\u001b[0m \u001b[1;33m=\u001b[0m \u001b[0mkwds\u001b[0m\u001b[1;33m[\u001b[0m\u001b[1;34m'has_index_names'\u001b[0m\u001b[1;33m]\u001b[0m\u001b[1;33m\u001b[0m\u001b[0m\n\u001b[0;32m    813\u001b[0m \u001b[1;33m\u001b[0m\u001b[0m\n\u001b[1;32m--> 814\u001b[1;33m         \u001b[0mself\u001b[0m\u001b[1;33m.\u001b[0m\u001b[0m_make_engine\u001b[0m\u001b[1;33m(\u001b[0m\u001b[0mself\u001b[0m\u001b[1;33m.\u001b[0m\u001b[0mengine\u001b[0m\u001b[1;33m)\u001b[0m\u001b[1;33m\u001b[0m\u001b[0m\n\u001b[0m\u001b[0;32m    815\u001b[0m \u001b[1;33m\u001b[0m\u001b[0m\n\u001b[0;32m    816\u001b[0m     \u001b[1;32mdef\u001b[0m \u001b[0mclose\u001b[0m\u001b[1;33m(\u001b[0m\u001b[0mself\u001b[0m\u001b[1;33m)\u001b[0m\u001b[1;33m:\u001b[0m\u001b[1;33m\u001b[0m\u001b[0m\n",
      "\u001b[1;32m~\\Anaconda3\\lib\\site-packages\\pandas\\io\\parsers.py\u001b[0m in \u001b[0;36m_make_engine\u001b[1;34m(self, engine)\u001b[0m\n\u001b[0;32m   1043\u001b[0m     \u001b[1;32mdef\u001b[0m \u001b[0m_make_engine\u001b[0m\u001b[1;33m(\u001b[0m\u001b[0mself\u001b[0m\u001b[1;33m,\u001b[0m \u001b[0mengine\u001b[0m\u001b[1;33m=\u001b[0m\u001b[1;34m'c'\u001b[0m\u001b[1;33m)\u001b[0m\u001b[1;33m:\u001b[0m\u001b[1;33m\u001b[0m\u001b[0m\n\u001b[0;32m   1044\u001b[0m         \u001b[1;32mif\u001b[0m \u001b[0mengine\u001b[0m \u001b[1;33m==\u001b[0m \u001b[1;34m'c'\u001b[0m\u001b[1;33m:\u001b[0m\u001b[1;33m\u001b[0m\u001b[0m\n\u001b[1;32m-> 1045\u001b[1;33m             \u001b[0mself\u001b[0m\u001b[1;33m.\u001b[0m\u001b[0m_engine\u001b[0m \u001b[1;33m=\u001b[0m \u001b[0mCParserWrapper\u001b[0m\u001b[1;33m(\u001b[0m\u001b[0mself\u001b[0m\u001b[1;33m.\u001b[0m\u001b[0mf\u001b[0m\u001b[1;33m,\u001b[0m \u001b[1;33m**\u001b[0m\u001b[0mself\u001b[0m\u001b[1;33m.\u001b[0m\u001b[0moptions\u001b[0m\u001b[1;33m)\u001b[0m\u001b[1;33m\u001b[0m\u001b[0m\n\u001b[0m\u001b[0;32m   1046\u001b[0m         \u001b[1;32melse\u001b[0m\u001b[1;33m:\u001b[0m\u001b[1;33m\u001b[0m\u001b[0m\n\u001b[0;32m   1047\u001b[0m             \u001b[1;32mif\u001b[0m \u001b[0mengine\u001b[0m \u001b[1;33m==\u001b[0m \u001b[1;34m'python'\u001b[0m\u001b[1;33m:\u001b[0m\u001b[1;33m\u001b[0m\u001b[0m\n",
      "\u001b[1;32m~\\Anaconda3\\lib\\site-packages\\pandas\\io\\parsers.py\u001b[0m in \u001b[0;36m__init__\u001b[1;34m(self, src, **kwds)\u001b[0m\n\u001b[0;32m   1682\u001b[0m         \u001b[0mkwds\u001b[0m\u001b[1;33m[\u001b[0m\u001b[1;34m'allow_leading_cols'\u001b[0m\u001b[1;33m]\u001b[0m \u001b[1;33m=\u001b[0m \u001b[0mself\u001b[0m\u001b[1;33m.\u001b[0m\u001b[0mindex_col\u001b[0m \u001b[1;32mis\u001b[0m \u001b[1;32mnot\u001b[0m \u001b[1;32mFalse\u001b[0m\u001b[1;33m\u001b[0m\u001b[0m\n\u001b[0;32m   1683\u001b[0m \u001b[1;33m\u001b[0m\u001b[0m\n\u001b[1;32m-> 1684\u001b[1;33m         \u001b[0mself\u001b[0m\u001b[1;33m.\u001b[0m\u001b[0m_reader\u001b[0m \u001b[1;33m=\u001b[0m \u001b[0mparsers\u001b[0m\u001b[1;33m.\u001b[0m\u001b[0mTextReader\u001b[0m\u001b[1;33m(\u001b[0m\u001b[0msrc\u001b[0m\u001b[1;33m,\u001b[0m \u001b[1;33m**\u001b[0m\u001b[0mkwds\u001b[0m\u001b[1;33m)\u001b[0m\u001b[1;33m\u001b[0m\u001b[0m\n\u001b[0m\u001b[0;32m   1685\u001b[0m \u001b[1;33m\u001b[0m\u001b[0m\n\u001b[0;32m   1686\u001b[0m         \u001b[1;31m# XXX\u001b[0m\u001b[1;33m\u001b[0m\u001b[1;33m\u001b[0m\u001b[0m\n",
      "\u001b[1;32mpandas/_libs/parsers.pyx\u001b[0m in \u001b[0;36mpandas._libs.parsers.TextReader.__cinit__\u001b[1;34m()\u001b[0m\n",
      "\u001b[1;32mpandas/_libs/parsers.pyx\u001b[0m in \u001b[0;36mpandas._libs.parsers.TextReader._setup_parser_source\u001b[1;34m()\u001b[0m\n",
      "\u001b[1;31mFileNotFoundError\u001b[0m: File b'data/bitstampfull2.csv' does not exist"
     ]
=======
   "execution_count": 49,
   "metadata": {},
   "outputs": [
    {
     "ename": "AttributeError",
     "evalue": "module 'matplotlib' has no attribute 'data'",
     "output_type": "error",
     "traceback": [
      "\u001b[1;31m---------------------------------------------------------------------------\u001b[0m",
      "\u001b[1;31mAttributeError\u001b[0m                            Traceback (most recent call last)",
      "\u001b[1;32m<ipython-input-49-c07ca2ccc7e9>\u001b[0m in \u001b[0;36m<module>\u001b[1;34m()\u001b[0m\n\u001b[0;32m     39\u001b[0m \u001b[1;33m\u001b[0m\u001b[0m\n\u001b[0;32m     40\u001b[0m \u001b[1;33m\u001b[0m\u001b[0m\n\u001b[1;32m---> 41\u001b[1;33m \u001b[0mtest_run\u001b[0m\u001b[1;33m(\u001b[0m\u001b[1;33m)\u001b[0m\u001b[1;33m\u001b[0m\u001b[0m\n\u001b[0m",
      "\u001b[1;32m<ipython-input-49-c07ca2ccc7e9>\u001b[0m in \u001b[0;36mtest_run\u001b[1;34m()\u001b[0m\n\u001b[0;32m     31\u001b[0m \u001b[1;33m\u001b[0m\u001b[0m\n\u001b[0;32m     32\u001b[0m     ax1.xaxis.set_major_locator(\n\u001b[1;32m---> 33\u001b[1;33m     matplotlib.data.index.WeekdayLocator(byweekday=matplotlib.data.index.MO))\n\u001b[0m\u001b[0;32m     34\u001b[0m     \u001b[0max1\u001b[0m\u001b[1;33m.\u001b[0m\u001b[0mxaxis\u001b[0m\u001b[1;33m.\u001b[0m\u001b[0mset_major_formatter\u001b[0m\u001b[1;33m(\u001b[0m\u001b[0mmatplotlib\u001b[0m\u001b[1;33m.\u001b[0m\u001b[0mdata\u001b[0m\u001b[1;33m.\u001b[0m\u001b[0mindex\u001b[0m\u001b[1;33m.\u001b[0m\u001b[0mDateFormatter\u001b[0m\u001b[1;33m(\u001b[0m\u001b[1;34m'%a %d\\n%b %Y'\u001b[0m\u001b[1;33m)\u001b[0m\u001b[1;33m)\u001b[0m\u001b[1;33m\u001b[0m\u001b[0m\n\u001b[0;32m     35\u001b[0m \u001b[1;33m\u001b[0m\u001b[0m\n",
      "\u001b[1;31mAttributeError\u001b[0m: module 'matplotlib' has no attribute 'data'"
     ]
    },
    {
     "data": {
      "image/png": "iVBORw0KGgoAAAANSUhEUgAAA9IAAAHiCAYAAAAEdvRaAAAABHNCSVQICAgIfAhkiAAAAAlwSFlz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\nAElFTkSuQmCC\n",
      "text/plain": [
       "<matplotlib.figure.Figure at 0x17ee37396a0>"
      ]
     },
     "metadata": {},
     "output_type": "display_data"
>>>>>>> 1d484e3b0b0546bf424ea5680ec5cb0f013ab619
    }
   ],
   "source": [
    "def rolling_mean(values, window):\n",
    "    return values.rolling(window = window).mean()\n",
    "\n",
    "def rolling_max(values, window):\n",
    "    return values.rolling(window = window).std()\n",
    "\n",
    "\n",
    "def test_run():\n",
    "    dates = pd.date_range('2015-12-31', '2017-10-19')\n",
    "    start_date='2011-12-31'\n",
    "    end_date='2017-10-20'\n",
    "    symbol = 'bitstampfull2'\n",
    "    data = get_data(symbol, dates)\n",
    "\n",
    "    data['RollingMean'] = rolling_mean(data['Close'], window = 50)\n",
    "    data['RollingMax'] = data['Close'].shift(1).rolling(30, min_periods=30).max()\n",
    "    data['RollingMin'] = data['Close'].shift(1).rolling(30, min_periods=30).min()\n",
    "    data['Buy'] = np.zeros(len(data))\n",
    "    data['Sell'] = np.zeros(len(data))\n",
    "    data.loc[data['RollingMax'] < data['Close'], 'Buy'] = 1\n",
    "    data.loc[data['RollingMin'] > data['Close'], 'Sell'] = -1\n",
    "\n",
    "    fig,ax1 = plt.subplots(figsize=(16, 8))\n",
    "    ax1.plot(data[['Close','RollingMean','RollingMax','RollingMin']])\n",
    "    y = ax1.get_ylim()\n",
    "    ax1.set_ylim(y[0] - (y[1]-y[0])*0.4, y[1])\n",
    "    ax2 = ax1.twinx()\n",
<<<<<<< HEAD
    "    ax2.set_position(matplotlib.transforms.Bbox([[0.1,0.125],[0.9,0.32]]))\n",
=======
    "    ax2.set_position(matplotlib.transforms.Bbox([[0.125,0.1],[0.9,0.32]]))\n",
>>>>>>> 1d484e3b0b0546bf424ea5680ec5cb0f013ab619
    "    ax2.plot(data['Buy'], color='#77dd77')\n",
    "    ax2.plot(data['Sell'], color='#dd4444')\n",
    "    \n",
    "    ax1.xaxis.set_major_locator(\n",
    "    matplotlib.data.index.WeekdayLocator(byweekday=matplotlib.data.index.MO))\n",
    "    ax1.xaxis.set_major_formatter(matplotlib.data.index.DateFormatter('%a %d\\n%b %Y'))\n",
<<<<<<< HEAD
=======
    "\n",
    "    print(data.head())\n",
    "\n",
>>>>>>> 1d484e3b0b0546bf424ea5680ec5cb0f013ab619
    "    plt.show()\n",
    "\n",
    "\n",
    "test_run()"
   ]
  },
  {
   "cell_type": "markdown",
   "metadata": {
    "collapsed": true
   },
   "source": [
    "\n",
    "# Daily and Cumulative Returns Comparisons for Multiple Stocks\n",
    "\n",
    "Datasets from my github: https://github.com/denisond/technical_analysis/tree/master/data\n",
    "\n",
    "Let's import some packages that will be helpful for us:"
   ]
  },
  {
   "cell_type": "code",
   "execution_count": null,
   "metadata": {
    "collapsed": true
   },
   "outputs": [],
   "source": []
  },
  {
   "cell_type": "code",
   "execution_count": null,
   "metadata": {
    "collapsed": true
   },
   "outputs": [],
   "source": []
  },
  {
   "cell_type": "code",
   "execution_count": null,
   "metadata": {
    "collapsed": true
   },
   "outputs": [],
   "source": [
    "import numpy as np\n",
    "import pandas as pd\n",
    "import os\n",
    "%matplotlib inline\n",
    "import matplotlib\n",
    "import matplotlib.pyplot as plt\n",
    "import datetime"
   ]
  },
  {
   "cell_type": "markdown",
   "metadata": {},
   "source": [
    "## Preparing and visualing our dataset \n",
    "\n",
    "Now we can write a couple of functions to help find our dataset, read it in, and clean it, all for our date range."
   ]
  },
  {
   "cell_type": "code",
   "execution_count": null,
   "metadata": {
    "collapsed": true
   },
   "outputs": [],
   "source": [
    "def get_data(symbols, dates):\n",
    "    \"\"\"Read stock data (adjusted close) for given symbols from CSV files.\"\"\"\n",
    "    df = pd.DataFrame(index = dates)\n",
    "    for symbol in symbols:\n",
    "        # Read and join data for each symbol\n",
    "        df_temp = pd.read_csv(\n",
    "            'data/{}.csv'.format(symbol),\n",
    "            index_col = 'Date', parse_dates = True, \n",
    "            usecols = ['Date', 'Adj Close'],\n",
    "            na_values = ['nan'])\n",
    "        df_temp = df_temp.rename(columns = {'Adj Close': symbol})\n",
    "        df = df.join(df_temp, how = 'inner')\n",
    "    return df"
   ]
  },
  {
   "cell_type": "markdown",
   "metadata": {},
   "source": [
    "Below we can call these functions to get an idea of what our series looks like at this point."
   ]
  },
  {
   "cell_type": "code",
   "execution_count": null,
<<<<<<< HEAD
   "metadata": {
    "collapsed": true
   },
=======
   "metadata": {},
>>>>>>> 1d484e3b0b0546bf424ea5680ec5cb0f013ab619
   "outputs": [],
   "source": [
    "dates = pd.date_range('2012-01-01', '2013-09-10')\n",
    "symbols = ['SPY', 'XOM', 'AAPL']\n",
    "data = get_data(symbols, dates)\n",
    "data.head()"
   ]
  },
  {
   "cell_type": "markdown",
   "metadata": {
    "collapsed": true
   },
   "source": [
    "Next let's define a simple fcn so we can start visualizing our data."
   ]
  },
  {
   "cell_type": "code",
   "execution_count": null,
   "metadata": {
    "collapsed": true
   },
   "outputs": [],
   "source": [
    "def plot_data(df, symbols):\n",
    "    ax = df.plot(figsize = (20, 10))\n",
    "    plt.title('{}, {}, & {} Stock Prices'.format(symbols[0], symbols[1], symbols[2]), fontsize = 20)\n",
    "    ax.set_xlabel(\"Date\")\n",
    "    ax.set_ylabel(\"Price\")\n",
    "    ax.tick_params(labelsize = 15)\n",
    "    ax.legend(loc = 'upper left', fontsize = 20)\n",
    "    \n",
    "    plt.show()\n"
   ]
  },
  {
   "cell_type": "code",
   "execution_count": null,
<<<<<<< HEAD
   "metadata": {
    "collapsed": true
   },
=======
   "metadata": {},
>>>>>>> 1d484e3b0b0546bf424ea5680ec5cb0f013ab619
   "outputs": [],
   "source": [
    "plot_data(data, symbols)"
   ]
  },
  {
   "cell_type": "markdown",
   "metadata": {},
   "source": [
    "Immediately we see a problem when trying to compare two stocks in terms of price. The movements in price of the less expensive stocks(SPDR S&P 500 ETF Trust and XOM) are much harder to detect than those of apple, due to the scale of the y-axis. \n",
    "\n",
    "Daily returns and cumulative returns are two useful metrics for comparing stocks' performances, as well as analyzing the performance one stock by itself. Let's define fcns to create and add these columns to our dataframe."
   ]
  },
  {
   "cell_type": "code",
   "execution_count": null,
   "metadata": {
    "collapsed": true
   },
   "outputs": [],
   "source": [
    "def daily_returns(df):\n",
    "    daily_returns = df.copy()\n",
    "    daily_returns = (df/df.shift(1)) - 1\n",
    "    daily_returns.iloc[0] = 0\n",
    "    return daily_returns\n",
    "\n",
    "def cumulative_returns(df):\n",
    "    cumulative_returns = df.copy()\n",
    "    cumulative_returns[1:] = (df[1:]/df.iloc[0].values) - 1\n",
    "    cumulative_returns.iloc[0] = 0\n",
    "    return cumulative_returns"
   ]
  },
  {
   "cell_type": "code",
   "execution_count": null,
<<<<<<< HEAD
   "metadata": {
    "collapsed": true
   },
=======
   "metadata": {},
>>>>>>> 1d484e3b0b0546bf424ea5680ec5cb0f013ab619
   "outputs": [],
   "source": [
    "daily_returns(data).head()"
   ]
  },
  {
   "cell_type": "code",
   "execution_count": null,
<<<<<<< HEAD
   "metadata": {
    "collapsed": true
   },
=======
   "metadata": {},
>>>>>>> 1d484e3b0b0546bf424ea5680ec5cb0f013ab619
   "outputs": [],
   "source": [
    "cumulative_returns(data).head()"
   ]
  },
  {
   "cell_type": "markdown",
   "metadata": {},
   "source": [
    "We see above the difference between our two columns: daily returns calculates the percentage change from one day's price to the next, whereas cumulative return calculates the aggregate percentage change in price from the first day in the dataframe. \n",
    "\n",
    "Now let's plot and compare all 3 of our stocks' prices in terms of daily and cumulative returns."
   ]
  },
  {
   "cell_type": "code",
   "execution_count": null,
<<<<<<< HEAD
   "metadata": {
    "collapsed": true
   },
=======
   "metadata": {},
>>>>>>> 1d484e3b0b0546bf424ea5680ec5cb0f013ab619
   "outputs": [],
   "source": [
    "plot_data(daily_returns(data), symbols)"
   ]
  },
  {
   "cell_type": "code",
   "execution_count": null,
<<<<<<< HEAD
   "metadata": {
    "collapsed": true
   },
=======
   "metadata": {},
>>>>>>> 1d484e3b0b0546bf424ea5680ec5cb0f013ab619
   "outputs": [],
   "source": [
    "plot_data(cumulative_returns(data), symbols)"
   ]
  },
  {
   "cell_type": "markdown",
   "metadata": {},
   "source": [
    "It is clear from the cumulative returns plot that Apple stock is much more volatile that the other two stocks. In particular, the highest point in the middle of the plot jumps out. I am curious what happened that caused a 9% daily return in the apple stock, so let's find the date and do a quick google search."
   ]
  },
  {
   "cell_type": "code",
   "execution_count": null,
<<<<<<< HEAD
   "metadata": {
    "collapsed": true
   },
=======
   "metadata": {},
>>>>>>> 1d484e3b0b0546bf424ea5680ec5cb0f013ab619
   "outputs": [],
   "source": [
    "daily_returns(data)['AAPL'].idxmax()"
   ]
  },
  {
   "cell_type": "markdown",
   "metadata": {
    "collapsed": true
   },
   "source": [
    "Searching \"4/25/12 Apple\" returns the follwing link as one of the top hits: http://money.cnn.com/2012/04/25/technology/apple-supplier-stocks/index.htm This article describes the reason for Apple's price rising by 9% -- Apple's 2nd quarter earnings were very high due to higher than expected iPhone sales. These are the types of insights we can draw from daily returns.\n",
    "\n",
    "The cumulative returns plot is also very interesting. Because the prices are normed, we can clearly see Apple outperformed our other stocks during this date-range, whereas before with only the stock price it was much less clear. Moreover, we can see clearly trends that persist amongst all three stocks, perhaps indicating significant economic news or events. These are all things to consider when comparing stocks' performances."
   ]
  },
  {
   "cell_type": "markdown",
   "metadata": {
    "collapsed": true
   },
   "source": [
    "\n",
    "# Daily and Cumulative Returns Comparisons for Multiple Stocks\n",
    "\n",
    "Datasets from my github: https://github.com/denisond/technical_analysis/tree/master/data\n",
    "\n",
    "Let's import some packages that will be helpful for us:"
   ]
  },
  {
   "cell_type": "code",
   "execution_count": null,
   "metadata": {
    "collapsed": true
   },
   "outputs": [],
   "source": [
    "import numpy as np\n",
    "import pandas as pd\n",
    "import os\n",
    "%matplotlib inline\n",
    "import matplotlib\n",
    "import matplotlib.pyplot as plt\n",
    "import datetime"
   ]
  },
  {
   "cell_type": "markdown",
   "metadata": {},
   "source": [
    "## Preparing and visualing our dataset \n",
    "\n",
    "Now we can write a couple of functions to help find our dataset, read it in, and clean it, all for our date range."
   ]
  },
  {
   "cell_type": "code",
   "execution_count": null,
   "metadata": {
    "collapsed": true
   },
   "outputs": [],
   "source": [
    "def get_data(symbols, dates):\n",
    "    \"\"\"Read stock data (adjusted close) for given symbols from CSV files.\"\"\"\n",
    "    df = pd.DataFrame(index = dates)\n",
    "    for symbol in symbols:\n",
    "        # Read and join data for each symbol\n",
    "        df_temp = pd.read_csv(\n",
    "            'data/{}.csv'.format(symbol),\n",
    "            index_col = 'Date', parse_dates = True, \n",
    "            usecols = ['Date', 'Adj Close'],\n",
    "            na_values = ['nan'])\n",
    "        df_temp = df_temp.rename(columns = {'Adj Close': symbol})\n",
    "        df = df.join(df_temp, how = 'inner')\n",
    "    return df"
   ]
  },
  {
   "cell_type": "markdown",
   "metadata": {},
   "source": [
    "Below we can call these functions to get an idea of what our series looks like at this point."
   ]
  },
  {
   "cell_type": "code",
   "execution_count": null,
<<<<<<< HEAD
   "metadata": {
    "collapsed": true
   },
=======
   "metadata": {},
>>>>>>> 1d484e3b0b0546bf424ea5680ec5cb0f013ab619
   "outputs": [],
   "source": [
    "dates = pd.date_range('2012-01-01', '2013-09-10')\n",
    "symbols = ['SPY', 'XOM', 'AAPL']\n",
    "data = get_data(symbols, dates)\n",
    "data.head()"
   ]
  },
  {
   "cell_type": "markdown",
   "metadata": {
    "collapsed": true
   },
   "source": [
    "Next let's define a simple fcn so we can start visualizing our data."
   ]
  },
  {
   "cell_type": "code",
   "execution_count": null,
   "metadata": {
    "collapsed": true
   },
   "outputs": [],
   "source": [
    "def plot_data(df, symbols):\n",
    "    ax = df.plot(figsize = (20, 10))\n",
    "    plt.title('{}, {}, & {} Stock Prices'.format(symbols[0], symbols[1], symbols[2]), fontsize = 20)\n",
    "    ax.set_xlabel(\"Date\")\n",
    "    ax.set_ylabel(\"Price\")\n",
    "    ax.tick_params(labelsize = 15)\n",
    "    ax.legend(loc = 'upper left', fontsize = 20)\n",
    "    \n",
    "    plt.show()\n"
   ]
  },
  {
   "cell_type": "code",
   "execution_count": null,
<<<<<<< HEAD
   "metadata": {
    "collapsed": true
   },
=======
   "metadata": {},
>>>>>>> 1d484e3b0b0546bf424ea5680ec5cb0f013ab619
   "outputs": [],
   "source": [
    "plot_data(data, symbols)"
   ]
  },
  {
   "cell_type": "markdown",
   "metadata": {},
   "source": [
    "Immediately we see a problem when trying to compare two stocks in terms of price. The movements in price of the less expensive stocks(SPDR S&P 500 ETF Trust and XOM) are much harder to detect than those of apple, due to the scale of the y-axis. \n",
    "\n",
    "Daily returns and cumulative returns are two useful metrics for comparing stocks' performances, as well as analyzing the performance one stock by itself. Let's define fcns to create and add these columns to our dataframe."
   ]
  },
  {
   "cell_type": "code",
   "execution_count": null,
   "metadata": {
    "collapsed": true
   },
   "outputs": [],
   "source": [
    "def daily_returns(df):\n",
    "    daily_returns = df.copy()\n",
    "    daily_returns = (df/df.shift(1)) - 1\n",
    "    daily_returns.iloc[0] = 0\n",
    "    return daily_returns\n",
    "\n",
    "def cumulative_returns(df):\n",
    "    cumulative_returns = df.copy()\n",
    "    cumulative_returns[1:] = (df[1:]/df.iloc[0].values) - 1\n",
    "    cumulative_returns.iloc[0] = 0\n",
    "    return cumulative_returns"
   ]
  },
  {
   "cell_type": "code",
   "execution_count": null,
<<<<<<< HEAD
   "metadata": {
    "collapsed": true
   },
=======
   "metadata": {},
>>>>>>> 1d484e3b0b0546bf424ea5680ec5cb0f013ab619
   "outputs": [],
   "source": [
    "daily_returns(data).head()"
   ]
  },
  {
   "cell_type": "code",
   "execution_count": null,
<<<<<<< HEAD
   "metadata": {
    "collapsed": true
   },
=======
   "metadata": {},
>>>>>>> 1d484e3b0b0546bf424ea5680ec5cb0f013ab619
   "outputs": [],
   "source": [
    "cumulative_returns(data).head()"
   ]
  },
  {
   "cell_type": "markdown",
   "metadata": {},
   "source": [
    "We see above the difference between our two columns: daily returns calculates the percentage change from one day's price to the next, whereas cumulative return calculates the aggregate percentage change in price from the first day in the dataframe. \n",
    "\n",
    "Now let's plot and compare all 3 of our stocks' prices in terms of daily and cumulative returns."
   ]
  },
  {
   "cell_type": "code",
   "execution_count": null,
<<<<<<< HEAD
   "metadata": {
    "collapsed": true
   },
=======
   "metadata": {},
>>>>>>> 1d484e3b0b0546bf424ea5680ec5cb0f013ab619
   "outputs": [],
   "source": [
    "plot_data(daily_returns(data), symbols)"
   ]
  },
  {
   "cell_type": "code",
   "execution_count": null,
<<<<<<< HEAD
   "metadata": {
    "collapsed": true
   },
=======
   "metadata": {},
>>>>>>> 1d484e3b0b0546bf424ea5680ec5cb0f013ab619
   "outputs": [],
   "source": [
    "plot_data(cumulative_returns(data), symbols)"
   ]
  },
  {
   "cell_type": "markdown",
   "metadata": {},
   "source": [
    "It is clear from the cumulative returns plot that Apple stock is much more volatile that the other two stocks. In particular, the highest point in the middle of the plot jumps out. I am curious what happened that caused a 9% daily return in the apple stock, so let's find the date and do a quick google search."
   ]
  },
  {
   "cell_type": "code",
   "execution_count": null,
<<<<<<< HEAD
   "metadata": {
    "collapsed": true
   },
=======
   "metadata": {},
>>>>>>> 1d484e3b0b0546bf424ea5680ec5cb0f013ab619
   "outputs": [],
   "source": [
    "daily_returns(data)['AAPL'].idxmax()"
   ]
  },
  {
   "cell_type": "markdown",
   "metadata": {
    "collapsed": true
   },
   "source": [
    "Searching \"4/25/12 Apple\" returns the follwing link as one of the top hits: http://money.cnn.com/2012/04/25/technology/apple-supplier-stocks/index.htm This article describes the reason for Apple's price rising by 9% -- Apple's 2nd quarter earnings were very high due to higher than expected iPhone sales. These are the types of insights we can draw from daily returns.\n",
    "\n",
    "The cumulative returns plot is also very interesting. Because the prices are normed, we can clearly see Apple outperformed our other stocks during this date-range, whereas before with only the stock price it was much less clear. Moreover, we can see clearly trends that persist amongst all three stocks, perhaps indicating significant economic news or events. These are all things to consider when comparing stocks' performances."
   ]
  },
  {
   "cell_type": "code",
   "execution_count": null,
   "metadata": {
    "collapsed": true
   },
   "outputs": [],
   "source": []
  }
 ],
 "metadata": {
  "kernelspec": {
   "display_name": "Python 3",
   "language": "python",
   "name": "python3"
  },
  "language_info": {
   "codemirror_mode": {
    "name": "ipython",
    "version": 3
   },
   "file_extension": ".py",
   "mimetype": "text/x-python",
   "name": "python",
   "nbconvert_exporter": "python",
   "pygments_lexer": "ipython3",
   "version": "3.6.3"
  }
 },
 "nbformat": 4,
 "nbformat_minor": 2
}
